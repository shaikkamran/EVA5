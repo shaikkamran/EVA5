{
 "cells": [
  {
   "cell_type": "code",
   "execution_count": 117,
   "metadata": {},
   "outputs": [],
   "source": [
    "from matplotlib import pyplot as plt"
   ]
  },
  {
   "cell_type": "code",
   "execution_count": 118,
   "metadata": {},
   "outputs": [],
   "source": [
    "cycle=1000\n",
    "max_lr=0.5\n",
    "halfcycle=cycle//2"
   ]
  },
  {
   "cell_type": "code",
   "execution_count": 119,
   "metadata": {},
   "outputs": [],
   "source": [
    "no_of_cycles=4\n",
    "total_iterations=no_of_cycles*cycle"
   ]
  },
  {
   "cell_type": "code",
   "execution_count": 120,
   "metadata": {},
   "outputs": [],
   "source": [
    "y=[]\n",
    "for i in range(total_iterations):\n",
    "    if i%cycle>halfcycle:\n",
    "        val=(max_lr/halfcycle)*(cycle-(i%cycle))\n",
    "    else:\n",
    "        val=(max_lr/halfcycle)*(i%cycle)\n",
    "    \n",
    "    y.append(val)"
   ]
  },
  {
   "cell_type": "code",
   "execution_count": 121,
   "metadata": {},
   "outputs": [
    {
     "data": {
      "text/plain": [
       "[<matplotlib.lines.Line2D at 0x7fa06691c690>]"
      ]
     },
     "execution_count": 121,
     "metadata": {},
     "output_type": "execute_result"
    },
    {
     "data": {
      "image/png": "[encoded data removed]",
      "text/plain": [
       "<Figure size 432x288 with 1 Axes>"
      ]
     },
     "metadata": {
      "needs_background": "light"
     },
     "output_type": "display_data"
    }
   ],
   "source": [
    "plt.plot(range(total_iterations),y,scaley=False)"
   ]
  },
  {
   "cell_type": "code",
   "execution_count": null,
   "metadata": {},
   "outputs": [],
   "source": []
  },
  {
   "cell_type": "code",
   "execution_count": 1,
   "metadata": {},
   "outputs": [],
   "source": [
    "from __future__ import print_function\n",
    "import torch\n",
    "import torch.nn as nn\n",
    "import torch.nn.functional as F\n",
    "import torch.optim as optim\n",
    "from torchvision import datasets, transforms"
   ]
  },
  {
   "cell_type": "code",
   "execution_count": null,
   "metadata": {},
   "outputs": [],
   "source": [
    "nn.Conv2d(in_channels=in_channels,out_channels=out_channels,kernel_size=kernel_size,**kwargs),\n",
    "#             nn.BatchNorm2d(out_channels),\n",
    "#             nn.ReLU(),"
   ]
  },
  {
   "cell_type": "code",
   "execution_count": 4,
   "metadata": {},
   "outputs": [],
   "source": [
    "class Conv2dAuto(nn.Conv2d):\n",
    "    def __init__(self, *args, **kwargs):\n",
    "        super().__init__(*args, **kwargs)\n",
    "        self.padding =  (self.kernel_size[0] // 2, self.kernel_size[1] // 2) # dynamic add padding based on the kernel_size\n",
    "        \n",
    "# conv3x3 = partial(Conv2dAuto, kernel_size=3, bias=False)"
   ]
  },
  {
   "cell_type": "code",
   "execution_count": 8,
   "metadata": {},
   "outputs": [
    {
     "data": {
      "text/plain": [
       "Conv2dAuto(32, 64, kernel_size=(4, 4), stride=(1, 1), padding=(2, 2))"
      ]
     },
     "execution_count": 8,
     "metadata": {},
     "output_type": "execute_result"
    }
   ],
   "source": [
    "Conv2dAuto(32,64,kernel_size=4)"
   ]
  },
  {
   "cell_type": "code",
   "execution_count": 54,
   "metadata": {},
   "outputs": [],
   "source": [
    "\n",
    "def conv_bn_relu(in_channels, out_channels, *args, **kwargs):\n",
    "\n",
    "    return nn.Sequential(\n",
    "                Conv2dAuto(in_channels=in_channels,out_channels=out_channels,**kwargs),\n",
    "                nn.BatchNorm2d(out_channels),\n",
    "                nn.ReLU(),\n",
    "            )\n",
    "    \n",
    "#     def forward(self,x):\n",
    "#         return self.convblock(x)\n",
    "\n",
    "# def conv_bn(in_channels, out_channels, conv, *args, **kwargs):\n",
    "#     return nn.Sequential(conv(in_channels, out_channels, *args, **kwargs), nn.BatchNorm2d(out_channels))\n"
   ]
  },
  {
   "cell_type": "code",
   "execution_count": 56,
   "metadata": {},
   "outputs": [
    {
     "data": {
      "text/plain": [
       "Sequential(\n",
       "  (0): Conv2dAuto(3, 32, kernel_size=(3, 3), stride=(1, 1), padding=(1, 1))\n",
       "  (1): BatchNorm2d(32, eps=1e-05, momentum=0.1, affine=True, track_running_stats=True)\n",
       "  (2): ReLU()\n",
       ")"
      ]
     },
     "execution_count": 56,
     "metadata": {},
     "output_type": "execute_result"
    }
   ],
   "source": [
    "conv_bn_relu(3,32,kernel_size=3)"
   ]
  },
  {
   "cell_type": "code",
   "execution_count": 57,
   "metadata": {},
   "outputs": [],
   "source": [
    "import torch\n",
    "import torchvision\n",
    "import torchvision.transforms as transforms\n",
    "import numpy as np\n",
    "\n",
    "# Calculate Ture Mean and STD\n",
    "def cifar10_mean_std():\n",
    "    \"\"\"Return the true mean of entire test and train dataset\"\"\"\n",
    "    # simple transform\n",
    "    simple_transforms = transforms.Compose([\n",
    "                                           transforms.ToTensor(),\n",
    "                                           ])\n",
    "    exp_train = torchvision.datasets.CIFAR10('./data', train=True, download=True, transform=simple_transforms)\n",
    "    exp_test = torchvision.datasets.CIFAR10('./data', train=False, download=True, transform=simple_transforms)\n",
    "\n",
    "    exp_tr_data = exp_train.data # train set\n",
    "    exp_ts_data = exp_test.data # test set\n",
    "\n",
    "    exp_data = np.concatenate((exp_tr_data,exp_ts_data),axis=0) # contatenate entire data\n",
    "\n",
    "    exp_data = np.transpose(exp_data,(3,1,2,0)) # reshape to (60000, 32, 32, 3)\n",
    "\n",
    "    norm_mean = (np.mean(exp_data[0])/255, np.mean(exp_data[1])/255, np.mean(exp_data[2])/255)\n",
    "    norm_std   = (np.std(exp_data[0])/255, np.std(exp_data[1])/255, np.std(exp_data[2])/255)\n",
    "\n",
    "    return(tuple(map(lambda x: np.round(x,2), norm_mean)), tuple(map(lambda x: np.round(x,2), norm_std)))\n",
    "\n",
    "def get_transforms(norm_mean,norm_std):\n",
    "    \"\"\"get the train and test transform\"\"\"\n",
    "    print(norm_mean,norm_std)\n",
    "    train_transform = transforms.Compose([transforms.RandomRotation(10) , transforms.RandomHorizontalFlip(0.20),\n",
    "                                      transforms.ToTensor(),transforms.Normalize(norm_mean, norm_std)])\n",
    "    test_transform = transforms.Compose([transforms.ToTensor(),transforms.Normalize(norm_mean, norm_std)])\n",
    "    return(train_transform,test_transform)\n",
    "\n",
    "def get_datasets(train_transform,test_transform):\n",
    "    \"\"\"Extract and transform the data\"\"\"\n",
    "    train_set = torchvision.datasets.CIFAR10(root='./data', train=True,download=True, transform=train_transform)\n",
    "    test_set  = torchvision.datasets.CIFAR10(root='./data', train=False,download=True, transform=test_transform)\n",
    "    return(train_set,test_set)\n",
    "\n",
    "def get_dataloaders(train_set,test_set):\n",
    "    \"\"\" Dataloader Arguments & Test/Train Dataloaders - Load part of ETL\"\"\"\n",
    "    SEED = 1\n",
    "    # CUDA?\n",
    "    cuda = torch.cuda.is_available()\n",
    "    print(\"CUDA Available?\", cuda)\n",
    "    # For reproducibility\n",
    "    torch.manual_seed(SEED)\n",
    "    if cuda:\n",
    "        torch.cuda.manual_seed(SEED)\n",
    "    # dataloader arguments\n",
    "    dataloader_args = dict(shuffle=True, batch_size=128, num_workers=4, pin_memory=True) if cuda else dict(shuffle=True, batch_size=64, num_workers=1)\n",
    "\n",
    "    # train dataloader\n",
    "    train_loader = torch.utils.data.DataLoader(train_set, **dataloader_args)\n",
    "    # test dataloader\n",
    "    test_loader  = torch.utils.data.DataLoader(test_set, **dataloader_args)\n",
    "    return(train_loader,test_loader)"
   ]
  },
  {
   "cell_type": "code",
   "execution_count": 58,
   "metadata": {},
   "outputs": [
    {
     "name": "stdout",
     "output_type": "stream",
     "text": [
      "Files already downloaded and verified\n",
      "Files already downloaded and verified\n",
      "(0.49, 0.48, 0.45) (0.25, 0.24, 0.26)\n",
      "Files already downloaded and verified\n",
      "Files already downloaded and verified\n"
     ]
    }
   ],
   "source": [
    "norm_mean,norm_std = cifar10_mean_std() #  (0.49, 0.48, 0.45), (0.25, 0.24, 0.26)\n",
    "train_transform, test_transform = get_transforms(norm_mean,norm_std)\n",
    "\n",
    "train,test=get_datasets(train_transform,test_transform)"
   ]
  },
  {
   "cell_type": "code",
   "execution_count": 59,
   "metadata": {},
   "outputs": [
    {
     "name": "stdout",
     "output_type": "stream",
     "text": [
      "(0.49, 0.48, 0.45) (0.25, 0.24, 0.26)\n"
     ]
    }
   ],
   "source": [
    "train_transform, test_transform =get_transforms(norm_mean,norm_std)\n",
    "# (0.49, 0.48, 0.45) (0.25, 0.24, 0.26)"
   ]
  },
  {
   "cell_type": "code",
   "execution_count": 60,
   "metadata": {},
   "outputs": [
    {
     "data": {
      "text/plain": [
       "True"
      ]
     },
     "execution_count": 60,
     "metadata": {},
     "output_type": "execute_result"
    }
   ],
   "source": [
    "torch.cuda.is_available()"
   ]
  },
  {
   "cell_type": "code",
   "execution_count": 61,
   "metadata": {},
   "outputs": [
    {
     "name": "stdout",
     "output_type": "stream",
     "text": [
      "CUDA Available? True\n"
     ]
    }
   ],
   "source": [
    "# train_set,test_set = dataset.get_datasets(train_transform,test_transform)\n",
    "\n",
    "# Targets -> ('plane', 'car', 'bird', 'cat', 'deer', 'dog', 'frog', 'horse', 'ship', 'truck')\n",
    "classes = train.classes\n",
    "\n",
    "# Dataloader Arguments & Test/Train Dataloaders - Load part of ETL\n",
    "train_loader,test_loader = get_dataloaders(train,test)"
   ]
  },
  {
   "cell_type": "code",
   "execution_count": 62,
   "metadata": {},
   "outputs": [
    {
     "data": {
      "text/plain": [
       "<torch.utils.data.dataloader.DataLoader at 0x7f6bb4503dd0>"
      ]
     },
     "execution_count": 62,
     "metadata": {},
     "output_type": "execute_result"
    }
   ],
   "source": [
    "train_loader"
   ]
  },
  {
   "cell_type": "code",
   "execution_count": 70,
   "metadata": {},
   "outputs": [],
   "source": [
    "class ResidualBlock(nn.Module):\n",
    "    def __init__(self, in_channels, out_channels):\n",
    "        super().__init__()\n",
    "        self.in_channels, self.out_channels=in_channels, out_channels\n",
    "        self.blocks = nn.Identity()\n",
    "\n",
    "        self.shortcut = nn.Identity()   \n",
    "    \n",
    "    def forward(self, x):\n",
    "        residual = x\n",
    "        if self.should_apply_shortcut: residual = self.shortcut(x)\n",
    "        x = self.blocks(x)\n",
    "        x += residual\n",
    "        x = nn.ReLU()(x)\n",
    "        return x\n",
    "    \n",
    "    @property\n",
    "    def should_apply_shortcut(self):\n",
    "        return self.in_channels != self.out_channels"
   ]
  },
  {
   "cell_type": "code",
   "execution_count": 71,
   "metadata": {},
   "outputs": [],
   "source": [
    "class ResNetResidualBlock(ResidualBlock):\n",
    "    def __init__(self, in_channels, out_channels, expansion=1, downsampling=1, conv=Conv2dAuto, *args, **kwargs):\n",
    "        super().__init__(in_channels, out_channels, *args, **kwargs)\n",
    "        self.expansion, self.downsampling, self.conv = expansion, downsampling, conv\n",
    "        self.shortcut = nn.Sequential(\n",
    "            nn.Conv2d(self.in_channels, self.expanded_channels, kernel_size=1,\n",
    "                      stride=self.downsampling, bias=False),\n",
    "            nn.BatchNorm2d(self.expanded_channels)) if self.should_apply_shortcut else None\n",
    "        \n",
    "        \n",
    "    @property\n",
    "    def expanded_channels(self):\n",
    "        return self.out_channels * self.expansion\n",
    "    \n",
    "    @property\n",
    "    def should_apply_shortcut(self):\n",
    "        return self.in_channels != self.expanded_channels"
   ]
  },
  {
   "cell_type": "code",
   "execution_count": 72,
   "metadata": {},
   "outputs": [],
   "source": [
    "class ResNetBasicBlock(ResNetResidualBlock):\n",
    "    \"\"\"\n",
    "    Basic ResNet block composed by two layers of 3x3conv/batchnorm/activation\n",
    "    \"\"\"\n",
    "    expansion = 1\n",
    "    def __init__(self, in_channels, out_channels, *args, **kwargs):\n",
    "        super().__init__(in_channels, out_channels, *args, **kwargs)\n",
    "        self.blocks = nn.Sequential(\n",
    "            conv_bn_relu(self.in_channels, self.out_channels,kernel_size=3,bias=False, stride=self.downsampling),\n",
    "        \n",
    "            conv_bn_relu(self.out_channels, self.expanded_channels,kernel_size=3,bias=False)\n",
    "        )"
   ]
  },
  {
   "cell_type": "code",
   "execution_count": 73,
   "metadata": {},
   "outputs": [
    {
     "data": {
      "text/plain": [
       "ResNetBasicBlock(\n",
       "  (blocks): Sequential(\n",
       "    (0): Sequential(\n",
       "      (0): Conv2dAuto(32, 64, kernel_size=(3, 3), stride=(1, 1), padding=(1, 1), bias=False)\n",
       "      (1): BatchNorm2d(64, eps=1e-05, momentum=0.1, affine=True, track_running_stats=True)\n",
       "      (2): ReLU()\n",
       "    )\n",
       "    (1): Sequential(\n",
       "      (0): Conv2dAuto(64, 64, kernel_size=(3, 3), stride=(1, 1), padding=(1, 1), bias=False)\n",
       "      (1): BatchNorm2d(64, eps=1e-05, momentum=0.1, affine=True, track_running_stats=True)\n",
       "      (2): ReLU()\n",
       "    )\n",
       "  )\n",
       "  (shortcut): Sequential(\n",
       "    (0): Conv2d(32, 64, kernel_size=(1, 1), stride=(1, 1), bias=False)\n",
       "    (1): BatchNorm2d(64, eps=1e-05, momentum=0.1, affine=True, track_running_stats=True)\n",
       "  )\n",
       ")"
      ]
     },
     "execution_count": 73,
     "metadata": {},
     "output_type": "execute_result"
    }
   ],
   "source": [
    "ResNetBasicBlock(32,64)"
   ]
  },
  {
   "cell_type": "code",
   "execution_count": 80,
   "metadata": {},
   "outputs": [],
   "source": [
    "dummy = torch.ones((1, 32, 224, 224))"
   ]
  },
  {
   "cell_type": "code",
   "execution_count": 82,
   "metadata": {},
   "outputs": [
    {
     "data": {
      "text/plain": [
       "torch.Size([1, 64, 224, 224])"
      ]
     },
     "execution_count": 82,
     "metadata": {},
     "output_type": "execute_result"
    }
   ],
   "source": [
    "\n",
    "ResNetBasicBlock(32,64)(dummy).shape"
   ]
  },
  {
   "cell_type": "code",
   "execution_count": null,
   "metadata": {},
   "outputs": [],
   "source": []
  }
 ],
 "metadata": {
  "kernelspec": {
   "display_name": "Python 3.7.6 64-bit ('pytorch_env': conda)",
   "language": "python",
   "name": "python37664bitpytorchenvcondad228783b886343d1b5226b5d7f24ae63"
  },
  "language_info": {
   "codemirror_mode": {
    "name": "ipython",
    "version": 3
   },
   "file_extension": ".py",
   "mimetype": "text/x-python",
   "name": "python",
   "nbconvert_exporter": "python",
   "pygments_lexer": "ipython3",
   "version": "3.7.6"
  }
 },
 "nbformat": 4,
 "nbformat_minor": 4
}
